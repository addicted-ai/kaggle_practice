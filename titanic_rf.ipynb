{
  "nbformat": 4,
  "nbformat_minor": 5,
  "metadata": {
    "kernelspec": {
      "display_name": "Python 3",
      "language": "python",
      "name": "python3"
    },
    "language_info": {
      "codemirror_mode": {
        "name": "ipython",
        "version": 3
      },
      "file_extension": ".py",
      "mimetype": "text/x-python",
      "name": "python",
      "nbconvert_exporter": "python",
      "pygments_lexer": "ipython3",
      "version": "3.9.6"
    },
    "toc": {
      "base_numbering": 1,
      "nav_menu": {},
      "number_sections": true,
      "sideBar": true,
      "skip_h1_title": false,
      "title_cell": "Table of Contents",
      "title_sidebar": "Contents",
      "toc_cell": false,
      "toc_position": {},
      "toc_section_display": true,
      "toc_window_display": false
    },
    "colab": {
      "name": "titanic_rf.ipynb",
      "provenance": [],
      "include_colab_link": true
    }
  },
  "cells": [
    {
      "cell_type": "markdown",
      "metadata": {
        "id": "view-in-github",
        "colab_type": "text"
      },
      "source": [
        "<a href=\"https://colab.research.google.com/github/addicted-ai/kaggle_practice/blob/main/titanic_rf.ipynb\" target=\"_parent\"><img src=\"https://colab.research.google.com/assets/colab-badge.svg\" alt=\"Open In Colab\"/></a>"
      ]
    },
    {
      "cell_type": "code",
      "metadata": {
        "id": "218ebb8d"
      },
      "source": [
        "import pandas as pd\n",
        "import numpy as np\n",
        "\n",
        "import matplotlib.pyplot as plt\n",
        "import seaborn as sns\n",
        "%matplotlib inline\n",
        "\n",
        "from sklearn.ensemble import RandomForestClassifier\n",
        "\n",
        "from sklearn.metrics import confusion_matrix, accuracy_score\n",
        "from sklearn.model_selection import GridSearchCV\n",
        "from sklearn.tree import export_graphviz\n",
        "\n",
        "import graphviz\n",
        "from IPython.display import Image"
      ],
      "id": "218ebb8d",
      "execution_count": 47,
      "outputs": []
    },
    {
      "cell_type": "code",
      "metadata": {
        "id": "_wkwHs3lLLXu"
      },
      "source": [
        "# Reading the dataset\n",
        "df = pd.read_csv('https://raw.githubusercontent.com/addicted-ai/kaggle_practice/main/dataset/titanic/train.csv')\n",
        "test = pd.read_csv('https://raw.githubusercontent.com/addicted-ai/kaggle_practice/main/dataset/titanic/test.csv')"
      ],
      "id": "_wkwHs3lLLXu",
      "execution_count": 48,
      "outputs": []
    },
    {
      "cell_type": "code",
      "metadata": {
        "colab": {
          "base_uri": "https://localhost:8080/",
          "height": 175
        },
        "id": "Er6D8jCKLNeA",
        "outputId": "ed61da69-d245-463b-ed63-640fb151a069"
      },
      "source": [
        "# data to be used for training & with labeled dependent variable\n",
        "df.head(4)"
      ],
      "id": "Er6D8jCKLNeA",
      "execution_count": 49,
      "outputs": [
        {
          "output_type": "execute_result",
          "data": {
            "text/html": [
              "<div>\n",
              "<style scoped>\n",
              "    .dataframe tbody tr th:only-of-type {\n",
              "        vertical-align: middle;\n",
              "    }\n",
              "\n",
              "    .dataframe tbody tr th {\n",
              "        vertical-align: top;\n",
              "    }\n",
              "\n",
              "    .dataframe thead th {\n",
              "        text-align: right;\n",
              "    }\n",
              "</style>\n",
              "<table border=\"1\" class=\"dataframe\">\n",
              "  <thead>\n",
              "    <tr style=\"text-align: right;\">\n",
              "      <th></th>\n",
              "      <th>PassengerId</th>\n",
              "      <th>Survived</th>\n",
              "      <th>Pclass</th>\n",
              "      <th>Name</th>\n",
              "      <th>Sex</th>\n",
              "      <th>Age</th>\n",
              "      <th>SibSp</th>\n",
              "      <th>Parch</th>\n",
              "      <th>Ticket</th>\n",
              "      <th>Fare</th>\n",
              "      <th>Cabin</th>\n",
              "      <th>Embarked</th>\n",
              "    </tr>\n",
              "  </thead>\n",
              "  <tbody>\n",
              "    <tr>\n",
              "      <th>0</th>\n",
              "      <td>1</td>\n",
              "      <td>0</td>\n",
              "      <td>3</td>\n",
              "      <td>Braund, Mr. Owen Harris</td>\n",
              "      <td>male</td>\n",
              "      <td>22.0</td>\n",
              "      <td>1</td>\n",
              "      <td>0</td>\n",
              "      <td>A/5 21171</td>\n",
              "      <td>7.2500</td>\n",
              "      <td>NaN</td>\n",
              "      <td>S</td>\n",
              "    </tr>\n",
              "    <tr>\n",
              "      <th>1</th>\n",
              "      <td>2</td>\n",
              "      <td>1</td>\n",
              "      <td>1</td>\n",
              "      <td>Cumings, Mrs. John Bradley (Florence Briggs Th...</td>\n",
              "      <td>female</td>\n",
              "      <td>38.0</td>\n",
              "      <td>1</td>\n",
              "      <td>0</td>\n",
              "      <td>PC 17599</td>\n",
              "      <td>71.2833</td>\n",
              "      <td>C85</td>\n",
              "      <td>C</td>\n",
              "    </tr>\n",
              "    <tr>\n",
              "      <th>2</th>\n",
              "      <td>3</td>\n",
              "      <td>1</td>\n",
              "      <td>3</td>\n",
              "      <td>Heikkinen, Miss. Laina</td>\n",
              "      <td>female</td>\n",
              "      <td>26.0</td>\n",
              "      <td>0</td>\n",
              "      <td>0</td>\n",
              "      <td>STON/O2. 3101282</td>\n",
              "      <td>7.9250</td>\n",
              "      <td>NaN</td>\n",
              "      <td>S</td>\n",
              "    </tr>\n",
              "    <tr>\n",
              "      <th>3</th>\n",
              "      <td>4</td>\n",
              "      <td>1</td>\n",
              "      <td>1</td>\n",
              "      <td>Futrelle, Mrs. Jacques Heath (Lily May Peel)</td>\n",
              "      <td>female</td>\n",
              "      <td>35.0</td>\n",
              "      <td>1</td>\n",
              "      <td>0</td>\n",
              "      <td>113803</td>\n",
              "      <td>53.1000</td>\n",
              "      <td>C123</td>\n",
              "      <td>S</td>\n",
              "    </tr>\n",
              "  </tbody>\n",
              "</table>\n",
              "</div>"
            ],
            "text/plain": [
              "   PassengerId  Survived  Pclass  ...     Fare Cabin  Embarked\n",
              "0            1         0       3  ...   7.2500   NaN         S\n",
              "1            2         1       1  ...  71.2833   C85         C\n",
              "2            3         1       3  ...   7.9250   NaN         S\n",
              "3            4         1       1  ...  53.1000  C123         S\n",
              "\n",
              "[4 rows x 12 columns]"
            ]
          },
          "metadata": {},
          "execution_count": 49
        }
      ]
    },
    {
      "cell_type": "code",
      "metadata": {
        "colab": {
          "base_uri": "https://localhost:8080/",
          "height": 175
        },
        "id": "mJ4Yc5S8LOpT",
        "outputId": "4c9d1979-a5ac-4048-dbc2-3f9777a78717"
      },
      "source": [
        "# test data that i have to get prediction & submit\n",
        "test.head(4)"
      ],
      "id": "mJ4Yc5S8LOpT",
      "execution_count": 50,
      "outputs": [
        {
          "output_type": "execute_result",
          "data": {
            "text/html": [
              "<div>\n",
              "<style scoped>\n",
              "    .dataframe tbody tr th:only-of-type {\n",
              "        vertical-align: middle;\n",
              "    }\n",
              "\n",
              "    .dataframe tbody tr th {\n",
              "        vertical-align: top;\n",
              "    }\n",
              "\n",
              "    .dataframe thead th {\n",
              "        text-align: right;\n",
              "    }\n",
              "</style>\n",
              "<table border=\"1\" class=\"dataframe\">\n",
              "  <thead>\n",
              "    <tr style=\"text-align: right;\">\n",
              "      <th></th>\n",
              "      <th>PassengerId</th>\n",
              "      <th>Pclass</th>\n",
              "      <th>Name</th>\n",
              "      <th>Sex</th>\n",
              "      <th>Age</th>\n",
              "      <th>SibSp</th>\n",
              "      <th>Parch</th>\n",
              "      <th>Ticket</th>\n",
              "      <th>Fare</th>\n",
              "      <th>Cabin</th>\n",
              "      <th>Embarked</th>\n",
              "    </tr>\n",
              "  </thead>\n",
              "  <tbody>\n",
              "    <tr>\n",
              "      <th>0</th>\n",
              "      <td>892</td>\n",
              "      <td>3</td>\n",
              "      <td>Kelly, Mr. James</td>\n",
              "      <td>male</td>\n",
              "      <td>34.5</td>\n",
              "      <td>0</td>\n",
              "      <td>0</td>\n",
              "      <td>330911</td>\n",
              "      <td>7.8292</td>\n",
              "      <td>NaN</td>\n",
              "      <td>Q</td>\n",
              "    </tr>\n",
              "    <tr>\n",
              "      <th>1</th>\n",
              "      <td>893</td>\n",
              "      <td>3</td>\n",
              "      <td>Wilkes, Mrs. James (Ellen Needs)</td>\n",
              "      <td>female</td>\n",
              "      <td>47.0</td>\n",
              "      <td>1</td>\n",
              "      <td>0</td>\n",
              "      <td>363272</td>\n",
              "      <td>7.0000</td>\n",
              "      <td>NaN</td>\n",
              "      <td>S</td>\n",
              "    </tr>\n",
              "    <tr>\n",
              "      <th>2</th>\n",
              "      <td>894</td>\n",
              "      <td>2</td>\n",
              "      <td>Myles, Mr. Thomas Francis</td>\n",
              "      <td>male</td>\n",
              "      <td>62.0</td>\n",
              "      <td>0</td>\n",
              "      <td>0</td>\n",
              "      <td>240276</td>\n",
              "      <td>9.6875</td>\n",
              "      <td>NaN</td>\n",
              "      <td>Q</td>\n",
              "    </tr>\n",
              "    <tr>\n",
              "      <th>3</th>\n",
              "      <td>895</td>\n",
              "      <td>3</td>\n",
              "      <td>Wirz, Mr. Albert</td>\n",
              "      <td>male</td>\n",
              "      <td>27.0</td>\n",
              "      <td>0</td>\n",
              "      <td>0</td>\n",
              "      <td>315154</td>\n",
              "      <td>8.6625</td>\n",
              "      <td>NaN</td>\n",
              "      <td>S</td>\n",
              "    </tr>\n",
              "  </tbody>\n",
              "</table>\n",
              "</div>"
            ],
            "text/plain": [
              "   PassengerId  Pclass                              Name  ...    Fare  Cabin  Embarked\n",
              "0          892       3                  Kelly, Mr. James  ...  7.8292    NaN         Q\n",
              "1          893       3  Wilkes, Mrs. James (Ellen Needs)  ...  7.0000    NaN         S\n",
              "2          894       2         Myles, Mr. Thomas Francis  ...  9.6875    NaN         Q\n",
              "3          895       3                  Wirz, Mr. Albert  ...  8.6625    NaN         S\n",
              "\n",
              "[4 rows x 11 columns]"
            ]
          },
          "metadata": {},
          "execution_count": 50
        }
      ]
    },
    {
      "cell_type": "code",
      "metadata": {
        "colab": {
          "base_uri": "https://localhost:8080/"
        },
        "id": "w9cjNwcSLP4n",
        "outputId": "c8aad391-3140-4c92-da08-fb374ef5941f"
      },
      "source": [
        "df.info()"
      ],
      "id": "w9cjNwcSLP4n",
      "execution_count": 51,
      "outputs": [
        {
          "output_type": "stream",
          "text": [
            "<class 'pandas.core.frame.DataFrame'>\n",
            "RangeIndex: 891 entries, 0 to 890\n",
            "Data columns (total 12 columns):\n",
            " #   Column       Non-Null Count  Dtype  \n",
            "---  ------       --------------  -----  \n",
            " 0   PassengerId  891 non-null    int64  \n",
            " 1   Survived     891 non-null    int64  \n",
            " 2   Pclass       891 non-null    int64  \n",
            " 3   Name         891 non-null    object \n",
            " 4   Sex          891 non-null    object \n",
            " 5   Age          714 non-null    float64\n",
            " 6   SibSp        891 non-null    int64  \n",
            " 7   Parch        891 non-null    int64  \n",
            " 8   Ticket       891 non-null    object \n",
            " 9   Fare         891 non-null    float64\n",
            " 10  Cabin        204 non-null    object \n",
            " 11  Embarked     889 non-null    object \n",
            "dtypes: float64(2), int64(5), object(5)\n",
            "memory usage: 83.7+ KB\n"
          ],
          "name": "stdout"
        }
      ]
    },
    {
      "cell_type": "markdown",
      "metadata": {
        "id": "GfcydDBEUFo1"
      },
      "source": [
        "- Categorical columns are `Name`, `Sex`, `Ticket`, `Cabin`, `Embarked`.\n",
        "- Name column can't be used for model."
      ],
      "id": "GfcydDBEUFo1"
    },
    {
      "cell_type": "code",
      "metadata": {
        "id": "hEXjWoCNi5Yu",
        "colab": {
          "base_uri": "https://localhost:8080/"
        },
        "outputId": "8776e356-4262-4400-a0ed-5aa2ff8b1eb3"
      },
      "source": [
        "test.info()"
      ],
      "id": "hEXjWoCNi5Yu",
      "execution_count": 52,
      "outputs": [
        {
          "output_type": "stream",
          "text": [
            "<class 'pandas.core.frame.DataFrame'>\n",
            "RangeIndex: 418 entries, 0 to 417\n",
            "Data columns (total 11 columns):\n",
            " #   Column       Non-Null Count  Dtype  \n",
            "---  ------       --------------  -----  \n",
            " 0   PassengerId  418 non-null    int64  \n",
            " 1   Pclass       418 non-null    int64  \n",
            " 2   Name         418 non-null    object \n",
            " 3   Sex          418 non-null    object \n",
            " 4   Age          332 non-null    float64\n",
            " 5   SibSp        418 non-null    int64  \n",
            " 6   Parch        418 non-null    int64  \n",
            " 7   Ticket       418 non-null    object \n",
            " 8   Fare         417 non-null    float64\n",
            " 9   Cabin        91 non-null     object \n",
            " 10  Embarked     418 non-null    object \n",
            "dtypes: float64(2), int64(4), object(5)\n",
            "memory usage: 36.0+ KB\n"
          ],
          "name": "stdout"
        }
      ]
    },
    {
      "cell_type": "code",
      "metadata": {
        "id": "9mHo-ClHUs1k",
        "colab": {
          "base_uri": "https://localhost:8080/",
          "height": 818
        },
        "outputId": "e119f4d4-635b-4a1f-eecc-92faca348cbf"
      },
      "source": [
        "cat_col = ['Sex', 'Ticket', 'Cabin', 'Embarked']\n",
        "for i in cat_col:\n",
        "  print(i,':')\n",
        "  display(df[i].value_counts(dropna=False))\n",
        "  print('________\\n')"
      ],
      "id": "9mHo-ClHUs1k",
      "execution_count": 53,
      "outputs": [
        {
          "output_type": "stream",
          "text": [
            "Sex :\n"
          ],
          "name": "stdout"
        },
        {
          "output_type": "display_data",
          "data": {
            "text/plain": [
              "male      577\n",
              "female    314\n",
              "Name: Sex, dtype: int64"
            ]
          },
          "metadata": {}
        },
        {
          "output_type": "stream",
          "text": [
            "________\n",
            "\n",
            "Ticket :\n"
          ],
          "name": "stdout"
        },
        {
          "output_type": "display_data",
          "data": {
            "text/plain": [
              "1601          7\n",
              "CA. 2343      7\n",
              "347082        7\n",
              "347088        6\n",
              "3101295       6\n",
              "             ..\n",
              "330932        1\n",
              "34218         1\n",
              "A/4. 34244    1\n",
              "367232        1\n",
              "2647          1\n",
              "Name: Ticket, Length: 681, dtype: int64"
            ]
          },
          "metadata": {}
        },
        {
          "output_type": "stream",
          "text": [
            "________\n",
            "\n",
            "Cabin :\n"
          ],
          "name": "stdout"
        },
        {
          "output_type": "display_data",
          "data": {
            "text/plain": [
              "NaN            687\n",
              "G6               4\n",
              "C23 C25 C27      4\n",
              "B96 B98          4\n",
              "C22 C26          3\n",
              "              ... \n",
              "D49              1\n",
              "C32              1\n",
              "E58              1\n",
              "B78              1\n",
              "C70              1\n",
              "Name: Cabin, Length: 148, dtype: int64"
            ]
          },
          "metadata": {}
        },
        {
          "output_type": "stream",
          "text": [
            "________\n",
            "\n",
            "Embarked :\n"
          ],
          "name": "stdout"
        },
        {
          "output_type": "display_data",
          "data": {
            "text/plain": [
              "S      644\n",
              "C      168\n",
              "Q       77\n",
              "NaN      2\n",
              "Name: Embarked, dtype: int64"
            ]
          },
          "metadata": {}
        },
        {
          "output_type": "stream",
          "text": [
            "________\n",
            "\n"
          ],
          "name": "stdout"
        }
      ]
    },
    {
      "cell_type": "code",
      "metadata": {
        "id": "H-MQ-hwcTYeE",
        "colab": {
          "base_uri": "https://localhost:8080/",
          "height": 90
        },
        "outputId": "715da5a4-1a71-4c8f-f5af-2c62d7d7e284"
      },
      "source": [
        "print('No of Unique values in Cabin:')\n",
        "display(df['Cabin'].nunique())\n",
        "print('No of Unique values in Ticket:')\n",
        "display(df['Ticket'].nunique())"
      ],
      "id": "H-MQ-hwcTYeE",
      "execution_count": 54,
      "outputs": [
        {
          "output_type": "stream",
          "text": [
            "No of Unique values in Cabin:\n"
          ],
          "name": "stdout"
        },
        {
          "output_type": "display_data",
          "data": {
            "text/plain": [
              "147"
            ]
          },
          "metadata": {}
        },
        {
          "output_type": "stream",
          "text": [
            "No of Unique values in Ticket:\n"
          ],
          "name": "stdout"
        },
        {
          "output_type": "display_data",
          "data": {
            "text/plain": [
              "681"
            ]
          },
          "metadata": {}
        }
      ]
    },
    {
      "cell_type": "markdown",
      "metadata": {
        "id": "3vn4qbM7V6Dj"
      },
      "source": [
        "- Both Ticket & Cabin have very high no of level. We can't use them for training.\n",
        "- 'Age' Columns seems to have ~20% NaN values. We can drop it.\n",
        "- 'Embarked` column has 2 NaN values. We can impute NaN with mode of column."
      ],
      "id": "3vn4qbM7V6Dj"
    },
    {
      "cell_type": "code",
      "metadata": {
        "id": "PXr07MYZX6bz"
      },
      "source": [
        "df['Embarked'] = df['Embarked'].replace(np.nan, df['Embarked'].mode()[0])"
      ],
      "id": "PXr07MYZX6bz",
      "execution_count": 55,
      "outputs": []
    },
    {
      "cell_type": "code",
      "metadata": {
        "id": "2Y2hfnL1jNIU",
        "colab": {
          "base_uri": "https://localhost:8080/"
        },
        "outputId": "def3dbe6-fd25-4b3e-8ac7-65a1b3f4c2b7"
      },
      "source": [
        "df['Fare'].describe(percentiles=[0.1, 0.25, 0.5, 0.75, .8, 0.9, 0.95, 0.97, 0.99, 1])"
      ],
      "id": "2Y2hfnL1jNIU",
      "execution_count": 56,
      "outputs": [
        {
          "output_type": "execute_result",
          "data": {
            "text/plain": [
              "count    891.000000\n",
              "mean      32.204208\n",
              "std       49.693429\n",
              "min        0.000000\n",
              "10%        7.550000\n",
              "25%        7.910400\n",
              "50%       14.454200\n",
              "75%       31.000000\n",
              "80%       39.687500\n",
              "90%       77.958300\n",
              "95%      112.079150\n",
              "97%      151.550000\n",
              "99%      249.006220\n",
              "100%     512.329200\n",
              "max      512.329200\n",
              "Name: Fare, dtype: float64"
            ]
          },
          "metadata": {},
          "execution_count": 56
        }
      ]
    },
    {
      "cell_type": "code",
      "metadata": {
        "id": "04mFh8NnjTQ1",
        "colab": {
          "base_uri": "https://localhost:8080/"
        },
        "outputId": "c8a12d6b-7eb2-43f3-f0c8-ebf6e17e63fa"
      },
      "source": [
        "df['Fare'].median()"
      ],
      "id": "04mFh8NnjTQ1",
      "execution_count": 57,
      "outputs": [
        {
          "output_type": "execute_result",
          "data": {
            "text/plain": [
              "14.4542"
            ]
          },
          "metadata": {},
          "execution_count": 57
        }
      ]
    },
    {
      "cell_type": "code",
      "metadata": {
        "id": "_LaHMaFVjEbF"
      },
      "source": [
        "test['Fare'] = test['Fare'].replace(np.nan, df['Fare'].median())"
      ],
      "id": "_LaHMaFVjEbF",
      "execution_count": 58,
      "outputs": []
    },
    {
      "cell_type": "code",
      "metadata": {
        "id": "IMJuj23lWvyA",
        "colab": {
          "base_uri": "https://localhost:8080/"
        },
        "outputId": "d7dd78e2-fe12-4125-cc3d-7f0c79dba49a"
      },
      "source": [
        "df.columns"
      ],
      "id": "IMJuj23lWvyA",
      "execution_count": 59,
      "outputs": [
        {
          "output_type": "execute_result",
          "data": {
            "text/plain": [
              "Index(['PassengerId', 'Survived', 'Pclass', 'Name', 'Sex', 'Age', 'SibSp',\n",
              "       'Parch', 'Ticket', 'Fare', 'Cabin', 'Embarked'],\n",
              "      dtype='object')"
            ]
          },
          "metadata": {},
          "execution_count": 59
        }
      ]
    },
    {
      "cell_type": "code",
      "metadata": {
        "id": "mei_qlEMQpRU"
      },
      "source": [
        "features = ['Pclass', 'Sex', 'SibSp', 'Parch', 'Fare', 'Embarked']\n",
        "X = pd.get_dummies(df[features])\n",
        "X_test = pd.get_dummies(test[features])\n",
        "\n",
        "y = df[\"Survived\"]"
      ],
      "id": "mei_qlEMQpRU",
      "execution_count": 60,
      "outputs": []
    },
    {
      "cell_type": "code",
      "metadata": {
        "id": "GMV5iBkdLrK5"
      },
      "source": [
        "rf_classifier = RandomForestClassifier(random_state=42, n_jobs=-1)"
      ],
      "id": "GMV5iBkdLrK5",
      "execution_count": 61,
      "outputs": []
    },
    {
      "cell_type": "code",
      "metadata": {
        "id": "ycso70icLsC4"
      },
      "source": [
        "params = {\n",
        "    'max_depth': [2, 3, 4, 5, 6, 7, 8, 9, 10,11,12,13,14,15],\n",
        "    'min_samples_leaf': [2,3,4,5,6, 7, 8,9, 10,11, 12,13, 14,15, 16,17,18],\n",
        "    'min_samples_leaf': [2,3,4,5,6,7,8,9,10,12,14,16,18,20,22,24,26,28,30],\n",
        "    'criterion': [\"gini\"]\n",
        "}\n",
        "# Instantiate the grid search model\n",
        "grid_search = GridSearchCV(estimator=rf_classifier, param_grid=params, \n",
        "                          cv=4, n_jobs=-1, verbose=1, scoring = \"accuracy\")"
      ],
      "id": "ycso70icLsC4",
      "execution_count": 62,
      "outputs": []
    },
    {
      "cell_type": "code",
      "metadata": {
        "colab": {
          "base_uri": "https://localhost:8080/"
        },
        "id": "28lCz_I0L1Fe",
        "outputId": "334b25e4-82de-460e-9497-28b2d4b71287"
      },
      "source": [
        "grid_search.fit(X, y)"
      ],
      "id": "28lCz_I0L1Fe",
      "execution_count": 63,
      "outputs": [
        {
          "output_type": "stream",
          "text": [
            "Fitting 4 folds for each of 266 candidates, totalling 1064 fits\n"
          ],
          "name": "stdout"
        },
        {
          "output_type": "stream",
          "text": [
            "[Parallel(n_jobs=-1)]: Using backend LokyBackend with 2 concurrent workers.\n",
            "[Parallel(n_jobs=-1)]: Done  46 tasks      | elapsed:   10.4s\n",
            "[Parallel(n_jobs=-1)]: Done 196 tasks      | elapsed:   40.5s\n",
            "[Parallel(n_jobs=-1)]: Done 446 tasks      | elapsed:  1.5min\n",
            "[Parallel(n_jobs=-1)]: Done 796 tasks      | elapsed:  2.7min\n",
            "[Parallel(n_jobs=-1)]: Done 1064 out of 1064 | elapsed:  3.6min finished\n"
          ],
          "name": "stderr"
        },
        {
          "output_type": "execute_result",
          "data": {
            "text/plain": [
              "GridSearchCV(cv=4, error_score=nan,\n",
              "             estimator=RandomForestClassifier(bootstrap=True, ccp_alpha=0.0,\n",
              "                                              class_weight=None,\n",
              "                                              criterion='gini', max_depth=None,\n",
              "                                              max_features='auto',\n",
              "                                              max_leaf_nodes=None,\n",
              "                                              max_samples=None,\n",
              "                                              min_impurity_decrease=0.0,\n",
              "                                              min_impurity_split=None,\n",
              "                                              min_samples_leaf=1,\n",
              "                                              min_samples_split=2,\n",
              "                                              min_weight_fraction_leaf=0.0,\n",
              "                                              n_estimators=100, n_jobs=-1,\n",
              "                                              oob_score=False, random_state=42,\n",
              "                                              verbose=0, warm_start=False),\n",
              "             iid='deprecated', n_jobs=-1,\n",
              "             param_grid={'criterion': ['gini'],\n",
              "                         'max_depth': [2, 3, 4, 5, 6, 7, 8, 9, 10, 11, 12, 13,\n",
              "                                       14, 15],\n",
              "                         'min_samples_leaf': [2, 3, 4, 5, 6, 7, 8, 9, 10, 12,\n",
              "                                              14, 16, 18, 20, 22, 24, 26, 28,\n",
              "                                              30]},\n",
              "             pre_dispatch='2*n_jobs', refit=True, return_train_score=False,\n",
              "             scoring='accuracy', verbose=1)"
            ]
          },
          "metadata": {},
          "execution_count": 63
        }
      ]
    },
    {
      "cell_type": "code",
      "metadata": {
        "colab": {
          "base_uri": "https://localhost:8080/"
        },
        "id": "loEfYKHLMUFk",
        "outputId": "c9a4696f-e9f1-4579-ab96-9f00e5d853d5"
      },
      "source": [
        "rf_best = grid_search.best_estimator_\n",
        "rf_best"
      ],
      "id": "loEfYKHLMUFk",
      "execution_count": 68,
      "outputs": [
        {
          "output_type": "execute_result",
          "data": {
            "text/plain": [
              "RandomForestClassifier(bootstrap=True, ccp_alpha=0.0, class_weight=None,\n",
              "                       criterion='gini', max_depth=10, max_features='auto',\n",
              "                       max_leaf_nodes=None, max_samples=None,\n",
              "                       min_impurity_decrease=0.0, min_impurity_split=None,\n",
              "                       min_samples_leaf=2, min_samples_split=2,\n",
              "                       min_weight_fraction_leaf=0.0, n_estimators=100,\n",
              "                       n_jobs=-1, oob_score=False, random_state=42, verbose=0,\n",
              "                       warm_start=False)"
            ]
          },
          "metadata": {},
          "execution_count": 68
        }
      ]
    },
    {
      "cell_type": "code",
      "metadata": {
        "id": "P-1EFfaBNiNt"
      },
      "source": [
        "def show_tree(model):\n",
        "  dot_data = export_graphviz(model, out_file=None, \n",
        "                                feature_names=X.columns,  \n",
        "                                class_names=['Survived', 'Not Survived'],\n",
        "                                filled=True, rounded=True)\n",
        "  graph = graphviz.Source(dot_data, format=\"png\")\n",
        "  # Image(graph.render(\"titanic_decision_tree\")) # shows png file\n",
        "  return graph.render(\"titanic_decision_tree\")"
      ],
      "id": "P-1EFfaBNiNt",
      "execution_count": 65,
      "outputs": []
    },
    {
      "cell_type": "code",
      "metadata": {
        "id": "B6X2dB0vN-5h"
      },
      "source": [
        "sample_tree = rf_best.estimators_[0]\n",
        "Image(show_tree(sample_tree))"
      ],
      "id": "B6X2dB0vN-5h",
      "execution_count": null,
      "outputs": []
    },
    {
      "cell_type": "code",
      "metadata": {
        "id": "XgYvF9YgMiXm"
      },
      "source": [
        "predictions = rf_best.predict(X_test)\n",
        "\n",
        "output = pd.DataFrame({'PassengerId': test.PassengerId, 'Survived': predictions})\n",
        "output.to_csv('my_submission.csv', index=False)"
      ],
      "id": "XgYvF9YgMiXm",
      "execution_count": 67,
      "outputs": []
    }
  ]
}